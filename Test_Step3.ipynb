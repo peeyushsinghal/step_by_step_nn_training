{
 "cells": [
  {
   "cell_type": "markdown",
   "metadata": {},
   "source": [
    "## Objective / Target\n",
    "\n",
    "- increase accuracy using batchnorm and dropout\n",
    "\n",
    "## Results\n",
    "\n",
    "- Parameters: 8232\n",
    "- Best Train Accuracy: 98.96 %\n",
    "- Best Test Accuracy: 99.36 %\n",
    "\n",
    "## Analysis\n",
    "\n",
    "- the model is increased,need to trim it\n",
    "- no overfitting\n",
    "\n",
    "## Next Steps\n",
    "\n",
    "- reduce the number of parameters\n",
    "- include lr reduction"
   ]
  },
  {
   "cell_type": "code",
   "execution_count": 1,
   "metadata": {},
   "outputs": [],
   "source": [
    "from __future__ import print_function\n",
    "import torch\n",
    "import torch.nn as nn\n",
    "import torch.nn.functional as F\n",
    "import torch.optim as optim\n",
    "from torchvision import datasets, transforms\n",
    "from torchsummary import summary\n",
    "import json"
   ]
  },
  {
   "cell_type": "code",
   "execution_count": 2,
   "metadata": {},
   "outputs": [],
   "source": [
    "\n",
    "from main import load_config, get_device, get_optimizer,get_data\n",
    "from train import train_model\n",
    "from test_model import test_model\n"
   ]
  },
  {
   "cell_type": "code",
   "execution_count": 3,
   "metadata": {},
   "outputs": [],
   "source": [
    "from model_3 import Net\n",
    "def get_model(device: torch.device, requires_summary: bool = True) -> torch.nn.Module:\n",
    "    model = Net()\n",
    "    if requires_summary:\n",
    "        summary(model, input_size=(1, 28, 28))\n",
    "    return model.to(device)"
   ]
  },
  {
   "cell_type": "code",
   "execution_count": 4,
   "metadata": {},
   "outputs": [
    {
     "name": "stdout",
     "output_type": "stream",
     "text": [
      "Using device: cpu\n",
      "----------------------------------------------------------------\n",
      "        Layer (type)               Output Shape         Param #\n",
      "================================================================\n",
      "            Conv2d-1            [-1, 8, 28, 28]              72\n",
      "              ReLU-2            [-1, 8, 28, 28]               0\n",
      "       BatchNorm2d-3            [-1, 8, 28, 28]              16\n",
      "           Dropout-4            [-1, 8, 28, 28]               0\n",
      "            Conv2d-5            [-1, 8, 28, 28]             576\n",
      "              ReLU-6            [-1, 8, 28, 28]               0\n",
      "       BatchNorm2d-7            [-1, 8, 28, 28]              16\n",
      "           Dropout-8            [-1, 8, 28, 28]               0\n",
      "         MaxPool2d-9            [-1, 8, 14, 14]               0\n",
      "           Conv2d-10           [-1, 16, 14, 14]           1,152\n",
      "             ReLU-11           [-1, 16, 14, 14]               0\n",
      "      BatchNorm2d-12           [-1, 16, 14, 14]              32\n",
      "          Dropout-13           [-1, 16, 14, 14]               0\n",
      "           Conv2d-14           [-1, 16, 14, 14]           2,304\n",
      "             ReLU-15           [-1, 16, 14, 14]               0\n",
      "      BatchNorm2d-16           [-1, 16, 14, 14]              32\n",
      "          Dropout-17           [-1, 16, 14, 14]               0\n",
      "        MaxPool2d-18             [-1, 16, 7, 7]               0\n",
      "           Conv2d-19             [-1, 16, 7, 7]             256\n",
      "           Conv2d-20             [-1, 16, 5, 5]           2,304\n",
      "             ReLU-21             [-1, 16, 5, 5]               0\n",
      "      BatchNorm2d-22             [-1, 16, 5, 5]              32\n",
      "          Dropout-23             [-1, 16, 5, 5]               0\n",
      "           Conv2d-24             [-1, 10, 3, 3]           1,440\n",
      "AdaptiveAvgPool2d-25             [-1, 10, 1, 1]               0\n",
      "================================================================\n",
      "Total params: 8,232\n",
      "Trainable params: 8,232\n",
      "Non-trainable params: 0\n",
      "----------------------------------------------------------------\n",
      "Input size (MB): 0.00\n",
      "Forward/backward pass size (MB): 0.61\n",
      "Params size (MB): 0.03\n",
      "Estimated Total Size (MB): 0.65\n",
      "----------------------------------------------------------------\n",
      "\n",
      " Number of parameters: 8232\n"
     ]
    }
   ],
   "source": [
    "device = get_device()\n",
    "train_loader, test_loader = get_data()\n",
    "model = get_model(device)\n",
    "print(f\"\\n Number of parameters: {sum(p.numel() for p in model.parameters())}\")\n"
   ]
  },
  {
   "cell_type": "code",
   "execution_count": 5,
   "metadata": {},
   "outputs": [
    {
     "name": "stdout",
     "output_type": "stream",
     "text": [
      "\n",
      "Epoch 1/15\n"
     ]
    },
    {
     "name": "stderr",
     "output_type": "stream",
     "text": [
      "loss=0.0854 | accuracy=91.42%: 100%|██████████| 469/469 [00:30<00:00, 15.44it/s]\n"
     ]
    },
    {
     "name": "stdout",
     "output_type": "stream",
     "text": [
      "\n",
      "Test set: Average loss: 0.0955, Accuracy: 9729/10000 (97.29%)\n",
      "\n",
      "\n",
      "Epoch 2/15\n"
     ]
    },
    {
     "name": "stderr",
     "output_type": "stream",
     "text": [
      "loss=0.1206 | accuracy=97.56%: 100%|██████████| 469/469 [00:29<00:00, 15.73it/s]\n"
     ]
    },
    {
     "name": "stdout",
     "output_type": "stream",
     "text": [
      "\n",
      "Test set: Average loss: 0.0539, Accuracy: 9826/10000 (98.26%)\n",
      "\n",
      "\n",
      "Epoch 3/15\n"
     ]
    },
    {
     "name": "stderr",
     "output_type": "stream",
     "text": [
      "loss=0.0293 | accuracy=97.98%: 100%|██████████| 469/469 [00:31<00:00, 14.95it/s]\n"
     ]
    },
    {
     "name": "stdout",
     "output_type": "stream",
     "text": [
      "\n",
      "Test set: Average loss: 0.0467, Accuracy: 9853/10000 (98.53%)\n",
      "\n",
      "\n",
      "Epoch 4/15\n"
     ]
    },
    {
     "name": "stderr",
     "output_type": "stream",
     "text": [
      "loss=0.0357 | accuracy=98.29%: 100%|██████████| 469/469 [00:31<00:00, 14.74it/s]\n"
     ]
    },
    {
     "name": "stdout",
     "output_type": "stream",
     "text": [
      "\n",
      "Test set: Average loss: 0.0312, Accuracy: 9907/10000 (99.07%)\n",
      "\n",
      "\n",
      "Epoch 5/15\n"
     ]
    },
    {
     "name": "stderr",
     "output_type": "stream",
     "text": [
      "loss=0.0579 | accuracy=98.41%: 100%|██████████| 469/469 [00:30<00:00, 15.35it/s]\n"
     ]
    },
    {
     "name": "stdout",
     "output_type": "stream",
     "text": [
      "\n",
      "Test set: Average loss: 0.0362, Accuracy: 9894/10000 (98.94%)\n",
      "\n",
      "\n",
      "Epoch 6/15\n"
     ]
    },
    {
     "name": "stderr",
     "output_type": "stream",
     "text": [
      "loss=0.0278 | accuracy=98.49%: 100%|██████████| 469/469 [00:30<00:00, 15.62it/s]\n"
     ]
    },
    {
     "name": "stdout",
     "output_type": "stream",
     "text": [
      "\n",
      "Test set: Average loss: 0.0286, Accuracy: 9906/10000 (99.06%)\n",
      "\n",
      "\n",
      "Epoch 7/15\n"
     ]
    },
    {
     "name": "stderr",
     "output_type": "stream",
     "text": [
      "loss=0.0185 | accuracy=98.71%: 100%|██████████| 469/469 [00:30<00:00, 15.61it/s]\n"
     ]
    },
    {
     "name": "stdout",
     "output_type": "stream",
     "text": [
      "\n",
      "Test set: Average loss: 0.0257, Accuracy: 9913/10000 (99.13%)\n",
      "\n",
      "\n",
      "Epoch 8/15\n"
     ]
    },
    {
     "name": "stderr",
     "output_type": "stream",
     "text": [
      "loss=0.0545 | accuracy=98.67%: 100%|██████████| 469/469 [00:30<00:00, 15.15it/s]\n"
     ]
    },
    {
     "name": "stdout",
     "output_type": "stream",
     "text": [
      "\n",
      "Test set: Average loss: 0.0327, Accuracy: 9901/10000 (99.01%)\n",
      "\n",
      "\n",
      "Epoch 9/15\n"
     ]
    },
    {
     "name": "stderr",
     "output_type": "stream",
     "text": [
      "loss=0.0703 | accuracy=98.80%: 100%|██████████| 469/469 [00:29<00:00, 15.87it/s]\n"
     ]
    },
    {
     "name": "stdout",
     "output_type": "stream",
     "text": [
      "\n",
      "Test set: Average loss: 0.0308, Accuracy: 9909/10000 (99.09%)\n",
      "\n",
      "\n",
      "Epoch 10/15\n"
     ]
    },
    {
     "name": "stderr",
     "output_type": "stream",
     "text": [
      "loss=0.0339 | accuracy=98.83%: 100%|██████████| 469/469 [00:27<00:00, 17.12it/s]\n"
     ]
    },
    {
     "name": "stdout",
     "output_type": "stream",
     "text": [
      "\n",
      "Test set: Average loss: 0.0280, Accuracy: 9919/10000 (99.19%)\n",
      "\n",
      "\n",
      "Epoch 11/15\n"
     ]
    },
    {
     "name": "stderr",
     "output_type": "stream",
     "text": [
      "loss=0.0663 | accuracy=98.85%: 100%|██████████| 469/469 [00:27<00:00, 17.19it/s]\n"
     ]
    },
    {
     "name": "stdout",
     "output_type": "stream",
     "text": [
      "\n",
      "Test set: Average loss: 0.0252, Accuracy: 9920/10000 (99.20%)\n",
      "\n",
      "\n",
      "Epoch 12/15\n"
     ]
    },
    {
     "name": "stderr",
     "output_type": "stream",
     "text": [
      "loss=0.0120 | accuracy=98.88%: 100%|██████████| 469/469 [00:27<00:00, 17.22it/s]\n"
     ]
    },
    {
     "name": "stdout",
     "output_type": "stream",
     "text": [
      "\n",
      "Test set: Average loss: 0.0247, Accuracy: 9927/10000 (99.27%)\n",
      "\n",
      "\n",
      "Epoch 13/15\n"
     ]
    },
    {
     "name": "stderr",
     "output_type": "stream",
     "text": [
      "loss=0.0337 | accuracy=98.96%: 100%|██████████| 469/469 [00:27<00:00, 17.10it/s]\n"
     ]
    },
    {
     "name": "stdout",
     "output_type": "stream",
     "text": [
      "\n",
      "Test set: Average loss: 0.0235, Accuracy: 9936/10000 (99.36%)\n",
      "\n",
      "\n",
      "Epoch 14/15\n"
     ]
    },
    {
     "name": "stderr",
     "output_type": "stream",
     "text": [
      "loss=0.0779 | accuracy=98.94%: 100%|██████████| 469/469 [00:27<00:00, 17.24it/s]\n"
     ]
    },
    {
     "name": "stdout",
     "output_type": "stream",
     "text": [
      "\n",
      "Test set: Average loss: 0.0257, Accuracy: 9908/10000 (99.08%)\n",
      "\n",
      "\n",
      "Epoch 15/15\n"
     ]
    },
    {
     "name": "stderr",
     "output_type": "stream",
     "text": [
      "loss=0.0858 | accuracy=98.94%: 100%|██████████| 469/469 [00:30<00:00, 15.44it/s]\n"
     ]
    },
    {
     "name": "stdout",
     "output_type": "stream",
     "text": [
      "\n",
      "Test set: Average loss: 0.0294, Accuracy: 9906/10000 (99.06%)\n",
      "\n"
     ]
    }
   ],
   "source": [
    "config = load_config()\n",
    "\n",
    "optimizer = optim.SGD(\n",
    "    model.parameters(),\n",
    "    lr=config[\"learning_rate\"],\n",
    "    momentum=config[\"momentum\"],\n",
    "    weight_decay=config[\"weight_decay\"],\n",
    ")\n",
    "\n",
    "list_train_accuracy = []\n",
    "list_test_accuracy = []\n",
    "for epoch in range(config[\"epochs\"]):\n",
    "    print(f\"\\nEpoch {epoch+1}/{config['epochs']}\")\n",
    "    model, epoch_train_metric = train_model(model, device, train_loader, optimizer)\n",
    "    model, epoch_test_metric = test_model(model, device, test_loader)\n",
    "\n",
    "    list_train_accuracy.append(float(epoch_train_metric[\"accuracy\"]))\n",
    "    list_test_accuracy.append(float(epoch_test_metric[\"accuracy\"]))\n",
    "\n",
    "with open(\"metrics.json\", \"w\") as f:\n",
    "    json.dump(\n",
    "        {\n",
    "            \"train_accuracy_over_epochs\": list_train_accuracy,\n",
    "            \"test_accuracy_over_epochs\": list_test_accuracy,\n",
    "        },\n",
    "        f,\n",
    "    )\n"
   ]
  }
 ],
 "metadata": {
  "kernelspec": {
   "display_name": "session7env",
   "language": "python",
   "name": "python3"
  },
  "language_info": {
   "codemirror_mode": {
    "name": "ipython",
    "version": 3
   },
   "file_extension": ".py",
   "mimetype": "text/x-python",
   "name": "python",
   "nbconvert_exporter": "python",
   "pygments_lexer": "ipython3",
   "version": "3.9.20"
  }
 },
 "nbformat": 4,
 "nbformat_minor": 2
}
