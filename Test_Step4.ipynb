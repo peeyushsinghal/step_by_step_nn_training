{
 "cells": [
  {
   "cell_type": "markdown",
   "metadata": {},
   "source": [
    "## Objective / Target\n",
    "\n",
    "- increase accuracy using batchnorm and dropout\n",
    "\n",
    "## Results\n",
    "\n",
    "- Parameters: 8232\n",
    "- Best Train Accuracy: 98.96 %\n",
    "- Best Test Accuracy: 99.42 %\n",
    "\n",
    "## Analysis\n",
    "\n",
    "- the model is increased,need to trim it\n",
    "- no overfitting\n",
    "\n",
    "## Next Steps\n",
    "\n",
    "- OK"
   ]
  },
  {
   "cell_type": "code",
   "execution_count": 1,
   "metadata": {},
   "outputs": [],
   "source": [
    "from __future__ import print_function\n",
    "import torch\n",
    "import torch.nn as nn\n",
    "import torch.nn.functional as F\n",
    "import torch.optim as optim\n",
    "from torchvision import datasets, transforms\n",
    "from torchsummary import summary\n",
    "import json"
   ]
  },
  {
   "cell_type": "code",
   "execution_count": 2,
   "metadata": {},
   "outputs": [],
   "source": [
    "\n",
    "from main import load_config, get_device, get_optimizer,get_data\n",
    "from train import train_model\n",
    "from test_model import test_model\n"
   ]
  },
  {
   "cell_type": "code",
   "execution_count": 3,
   "metadata": {},
   "outputs": [],
   "source": [
    "from model_4 import Net\n",
    "def get_model(device: torch.device, requires_summary: bool = True) -> torch.nn.Module:\n",
    "    model = Net()\n",
    "    if requires_summary:\n",
    "        summary(model, input_size=(1, 28, 28))\n",
    "    return model.to(device)"
   ]
  },
  {
   "cell_type": "code",
   "execution_count": 4,
   "metadata": {},
   "outputs": [
    {
     "name": "stdout",
     "output_type": "stream",
     "text": [
      "Using device: cpu\n",
      "----------------------------------------------------------------\n",
      "        Layer (type)               Output Shape         Param #\n",
      "================================================================\n",
      "            Conv2d-1            [-1, 8, 28, 28]              72\n",
      "              ReLU-2            [-1, 8, 28, 28]               0\n",
      "       BatchNorm2d-3            [-1, 8, 28, 28]              16\n",
      "           Dropout-4            [-1, 8, 28, 28]               0\n",
      "            Conv2d-5            [-1, 8, 28, 28]             576\n",
      "              ReLU-6            [-1, 8, 28, 28]               0\n",
      "       BatchNorm2d-7            [-1, 8, 28, 28]              16\n",
      "           Dropout-8            [-1, 8, 28, 28]               0\n",
      "         MaxPool2d-9            [-1, 8, 14, 14]               0\n",
      "           Conv2d-10           [-1, 16, 14, 14]           1,152\n",
      "             ReLU-11           [-1, 16, 14, 14]               0\n",
      "      BatchNorm2d-12           [-1, 16, 14, 14]              32\n",
      "          Dropout-13           [-1, 16, 14, 14]               0\n",
      "           Conv2d-14           [-1, 16, 14, 14]           2,304\n",
      "             ReLU-15           [-1, 16, 14, 14]               0\n",
      "      BatchNorm2d-16           [-1, 16, 14, 14]              32\n",
      "          Dropout-17           [-1, 16, 14, 14]               0\n",
      "        MaxPool2d-18             [-1, 16, 7, 7]               0\n",
      "           Conv2d-19             [-1, 16, 5, 5]           2,304\n",
      "             ReLU-20             [-1, 16, 5, 5]               0\n",
      "      BatchNorm2d-21             [-1, 16, 5, 5]              32\n",
      "          Dropout-22             [-1, 16, 5, 5]               0\n",
      "           Conv2d-23             [-1, 10, 3, 3]           1,440\n",
      "AdaptiveAvgPool2d-24             [-1, 10, 1, 1]               0\n",
      "================================================================\n",
      "Total params: 7,976\n",
      "Trainable params: 7,976\n",
      "Non-trainable params: 0\n",
      "----------------------------------------------------------------\n",
      "Input size (MB): 0.00\n",
      "Forward/backward pass size (MB): 0.61\n",
      "Params size (MB): 0.03\n",
      "Estimated Total Size (MB): 0.64\n",
      "----------------------------------------------------------------\n",
      "\n",
      " Number of parameters: 7976\n"
     ]
    }
   ],
   "source": [
    "device = get_device()\n",
    "train_loader, test_loader = get_data()\n",
    "model = get_model(device)\n",
    "print(f\"\\n Number of parameters: {sum(p.numel() for p in model.parameters())}\")\n"
   ]
  },
  {
   "cell_type": "code",
   "execution_count": 5,
   "metadata": {},
   "outputs": [
    {
     "name": "stdout",
     "output_type": "stream",
     "text": [
      "\n",
      "Epoch 1/15\n"
     ]
    },
    {
     "name": "stderr",
     "output_type": "stream",
     "text": [
      "loss=0.0737 | accuracy=91.58%: 100%|██████████| 469/469 [00:28<00:00, 16.73it/s]\n"
     ]
    },
    {
     "name": "stdout",
     "output_type": "stream",
     "text": [
      "\n",
      "Test set: Average loss: 0.0841, Accuracy: 9752/10000 (97.52%)\n",
      "\n",
      "\n",
      "Epoch 2/15\n"
     ]
    },
    {
     "name": "stderr",
     "output_type": "stream",
     "text": [
      "loss=0.0366 | accuracy=97.47%: 100%|██████████| 469/469 [00:26<00:00, 17.54it/s]\n"
     ]
    },
    {
     "name": "stdout",
     "output_type": "stream",
     "text": [
      "\n",
      "Test set: Average loss: 0.0596, Accuracy: 9808/10000 (98.08%)\n",
      "\n",
      "\n",
      "Epoch 3/15\n"
     ]
    },
    {
     "name": "stderr",
     "output_type": "stream",
     "text": [
      "loss=0.1054 | accuracy=97.97%: 100%|██████████| 469/469 [00:27<00:00, 17.08it/s]\n"
     ]
    },
    {
     "name": "stdout",
     "output_type": "stream",
     "text": [
      "\n",
      "Test set: Average loss: 0.0420, Accuracy: 9873/10000 (98.73%)\n",
      "\n",
      "\n",
      "Epoch 4/15\n"
     ]
    },
    {
     "name": "stderr",
     "output_type": "stream",
     "text": [
      "loss=0.0238 | accuracy=98.24%: 100%|██████████| 469/469 [00:28<00:00, 16.49it/s]\n"
     ]
    },
    {
     "name": "stdout",
     "output_type": "stream",
     "text": [
      "\n",
      "Test set: Average loss: 0.0339, Accuracy: 9892/10000 (98.92%)\n",
      "\n",
      "\n",
      "Epoch 5/15\n"
     ]
    },
    {
     "name": "stderr",
     "output_type": "stream",
     "text": [
      "loss=0.1385 | accuracy=98.41%: 100%|██████████| 469/469 [00:29<00:00, 15.75it/s]\n"
     ]
    },
    {
     "name": "stdout",
     "output_type": "stream",
     "text": [
      "\n",
      "Test set: Average loss: 0.0463, Accuracy: 9860/10000 (98.60%)\n",
      "\n",
      "\n",
      "Epoch 6/15\n"
     ]
    },
    {
     "name": "stderr",
     "output_type": "stream",
     "text": [
      "loss=0.0104 | accuracy=98.53%: 100%|██████████| 469/469 [00:34<00:00, 13.69it/s]\n"
     ]
    },
    {
     "name": "stdout",
     "output_type": "stream",
     "text": [
      "\n",
      "Test set: Average loss: 0.0371, Accuracy: 9872/10000 (98.72%)\n",
      "\n",
      "\n",
      "Epoch 7/15\n"
     ]
    },
    {
     "name": "stderr",
     "output_type": "stream",
     "text": [
      "loss=0.0186 | accuracy=98.64%: 100%|██████████| 469/469 [00:31<00:00, 14.79it/s]\n"
     ]
    },
    {
     "name": "stdout",
     "output_type": "stream",
     "text": [
      "\n",
      "Test set: Average loss: 0.0336, Accuracy: 9890/10000 (98.90%)\n",
      "\n",
      "\n",
      "Epoch 8/15\n"
     ]
    },
    {
     "name": "stderr",
     "output_type": "stream",
     "text": [
      "loss=0.1197 | accuracy=98.77%: 100%|██████████| 469/469 [00:31<00:00, 14.98it/s]\n"
     ]
    },
    {
     "name": "stdout",
     "output_type": "stream",
     "text": [
      "\n",
      "Test set: Average loss: 0.0329, Accuracy: 9896/10000 (98.96%)\n",
      "\n",
      "\n",
      "Epoch 9/15\n"
     ]
    },
    {
     "name": "stderr",
     "output_type": "stream",
     "text": [
      "loss=0.0139 | accuracy=98.74%: 100%|██████████| 469/469 [00:38<00:00, 12.18it/s]\n"
     ]
    },
    {
     "name": "stdout",
     "output_type": "stream",
     "text": [
      "\n",
      "Test set: Average loss: 0.0334, Accuracy: 9891/10000 (98.91%)\n",
      "\n",
      "\n",
      "Epoch 10/15\n"
     ]
    },
    {
     "name": "stderr",
     "output_type": "stream",
     "text": [
      "loss=0.0547 | accuracy=98.75%: 100%|██████████| 469/469 [00:33<00:00, 13.88it/s]\n"
     ]
    },
    {
     "name": "stdout",
     "output_type": "stream",
     "text": [
      "\n",
      "Test set: Average loss: 0.0293, Accuracy: 9897/10000 (98.97%)\n",
      "\n",
      "\n",
      "Epoch 11/15\n"
     ]
    },
    {
     "name": "stderr",
     "output_type": "stream",
     "text": [
      "loss=0.0255 | accuracy=98.78%: 100%|██████████| 469/469 [00:33<00:00, 14.06it/s]\n"
     ]
    },
    {
     "name": "stdout",
     "output_type": "stream",
     "text": [
      "\n",
      "Test set: Average loss: 0.0251, Accuracy: 9924/10000 (99.24%)\n",
      "\n",
      "\n",
      "Epoch 12/15\n"
     ]
    },
    {
     "name": "stderr",
     "output_type": "stream",
     "text": [
      "loss=0.0401 | accuracy=98.85%: 100%|██████████| 469/469 [00:29<00:00, 15.95it/s]\n"
     ]
    },
    {
     "name": "stdout",
     "output_type": "stream",
     "text": [
      "\n",
      "Test set: Average loss: 0.0244, Accuracy: 9919/10000 (99.19%)\n",
      "\n",
      "\n",
      "Epoch 13/15\n"
     ]
    },
    {
     "name": "stderr",
     "output_type": "stream",
     "text": [
      "loss=0.0490 | accuracy=98.85%: 100%|██████████| 469/469 [00:30<00:00, 15.62it/s]\n"
     ]
    },
    {
     "name": "stdout",
     "output_type": "stream",
     "text": [
      "\n",
      "Test set: Average loss: 0.0261, Accuracy: 9909/10000 (99.09%)\n",
      "\n",
      "\n",
      "Epoch 14/15\n"
     ]
    },
    {
     "name": "stderr",
     "output_type": "stream",
     "text": [
      "loss=0.0840 | accuracy=98.93%: 100%|██████████| 469/469 [00:29<00:00, 15.87it/s]\n"
     ]
    },
    {
     "name": "stdout",
     "output_type": "stream",
     "text": [
      "\n",
      "Test set: Average loss: 0.0247, Accuracy: 9911/10000 (99.11%)\n",
      "\n",
      "\n",
      "Epoch 15/15\n"
     ]
    },
    {
     "name": "stderr",
     "output_type": "stream",
     "text": [
      "loss=0.0481 | accuracy=98.98%: 100%|██████████| 469/469 [00:29<00:00, 15.83it/s]\n"
     ]
    },
    {
     "name": "stdout",
     "output_type": "stream",
     "text": [
      "\n",
      "Test set: Average loss: 0.0298, Accuracy: 9910/10000 (99.10%)\n",
      "\n"
     ]
    }
   ],
   "source": [
    "config = load_config()\n",
    "\n",
    "optimizer = optim.SGD(\n",
    "    model.parameters(),\n",
    "    lr=config[\"learning_rate\"],\n",
    "    momentum=config[\"momentum\"],\n",
    "    weight_decay=config[\"weight_decay\"],\n",
    ")\n",
    "\n",
    "list_train_accuracy = []\n",
    "list_test_accuracy = []\n",
    "for epoch in range(config[\"epochs\"]):\n",
    "    print(f\"\\nEpoch {epoch+1}/{config['epochs']}\")\n",
    "    model, epoch_train_metric = train_model(model, device, train_loader, optimizer)\n",
    "    model, epoch_test_metric = test_model(model, device, test_loader)\n",
    "\n",
    "    list_train_accuracy.append(float(epoch_train_metric[\"accuracy\"]))\n",
    "    list_test_accuracy.append(float(epoch_test_metric[\"accuracy\"]))\n",
    "\n",
    "with open(\"metrics.json\", \"w\") as f:\n",
    "    json.dump(\n",
    "        {\n",
    "            \"train_accuracy_over_epochs\": list_train_accuracy,\n",
    "            \"test_accuracy_over_epochs\": list_test_accuracy,\n",
    "        },\n",
    "        f,\n",
    "    )\n"
   ]
  }
 ],
 "metadata": {
  "kernelspec": {
   "display_name": "session7env",
   "language": "python",
   "name": "python3"
  },
  "language_info": {
   "codemirror_mode": {
    "name": "ipython",
    "version": 3
   },
   "file_extension": ".py",
   "mimetype": "text/x-python",
   "name": "python",
   "nbconvert_exporter": "python",
   "pygments_lexer": "ipython3",
   "version": "3.9.20"
  }
 },
 "nbformat": 4,
 "nbformat_minor": 2
}
