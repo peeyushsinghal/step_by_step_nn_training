{
 "cells": [
  {
   "cell_type": "markdown",
   "metadata": {},
   "source": [
    "## Objective / Target\n",
    "\n",
    "- Use Existing Initial Setup and Model\n",
    "- Getting the model correct\n",
    "- Very basic model, based on last week's model - without batchnorm and dropout\n",
    "\n",
    "## Results\n",
    "\n",
    "- Parameters: 6824\n",
    "- Best Train Accuracy: 98.86 %\n",
    "- Best Test Accuracy: 99.02 %\n",
    "\n",
    "## Analysis\n",
    "\n",
    "- small model, but reaching near 99% accuracy\n",
    "- no overfitting\n",
    "\n",
    "\n",
    "## Next Steps\n",
    "\n",
    "-  include batchnorm and dropout"
   ]
  },
  {
   "cell_type": "code",
   "execution_count": 1,
   "metadata": {},
   "outputs": [],
   "source": [
    "from __future__ import print_function\n",
    "import torch\n",
    "import torch.nn as nn\n",
    "import torch.nn.functional as F\n",
    "import torch.optim as optim\n",
    "from torchvision import datasets, transforms\n",
    "from torchsummary import summary\n",
    "import json"
   ]
  },
  {
   "cell_type": "code",
   "execution_count": 2,
   "metadata": {},
   "outputs": [],
   "source": [
    "\n",
    "from main import load_config, get_device, get_optimizer,get_data\n",
    "from train import train_model\n",
    "from test_model import test_model\n"
   ]
  },
  {
   "cell_type": "code",
   "execution_count": 3,
   "metadata": {},
   "outputs": [],
   "source": [
    "from model_1 import Net\n",
    "def get_model(device: torch.device, requires_summary: bool = True) -> torch.nn.Module:\n",
    "    model = Net()\n",
    "    if requires_summary:\n",
    "        summary(model, input_size=(1, 28, 28))\n",
    "    return model.to(device)"
   ]
  },
  {
   "cell_type": "code",
   "execution_count": 4,
   "metadata": {},
   "outputs": [
    {
     "name": "stdout",
     "output_type": "stream",
     "text": [
      "Using device: cpu\n",
      "----------------------------------------------------------------\n",
      "        Layer (type)               Output Shape         Param #\n",
      "================================================================\n",
      "            Conv2d-1            [-1, 8, 28, 28]              72\n",
      "              ReLU-2            [-1, 8, 28, 28]               0\n",
      "            Conv2d-3            [-1, 8, 28, 28]             576\n",
      "              ReLU-4            [-1, 8, 28, 28]               0\n",
      "         MaxPool2d-5            [-1, 8, 14, 14]               0\n",
      "            Conv2d-6           [-1, 16, 14, 14]           1,152\n",
      "              ReLU-7           [-1, 16, 14, 14]               0\n",
      "            Conv2d-8           [-1, 16, 14, 14]           2,304\n",
      "              ReLU-9           [-1, 16, 14, 14]               0\n",
      "        MaxPool2d-10             [-1, 16, 7, 7]               0\n",
      "           Conv2d-11              [-1, 8, 7, 7]             128\n",
      "           Conv2d-12             [-1, 16, 5, 5]           1,152\n",
      "             ReLU-13             [-1, 16, 5, 5]               0\n",
      "           Conv2d-14             [-1, 10, 3, 3]           1,440\n",
      "AdaptiveAvgPool2d-15             [-1, 10, 1, 1]               0\n",
      "================================================================\n",
      "Total params: 6,824\n",
      "Trainable params: 6,824\n",
      "Non-trainable params: 0\n",
      "----------------------------------------------------------------\n",
      "Input size (MB): 0.00\n",
      "Forward/backward pass size (MB): 0.31\n",
      "Params size (MB): 0.03\n",
      "Estimated Total Size (MB): 0.34\n",
      "----------------------------------------------------------------\n",
      "\n",
      " Number of parameters: 6824\n"
     ]
    }
   ],
   "source": [
    "device = get_device()\n",
    "train_loader, test_loader = get_data()\n",
    "model = get_model(device)\n",
    "print(f\"\\n Number of parameters: {sum(p.numel() for p in model.parameters())}\")\n"
   ]
  },
  {
   "cell_type": "code",
   "execution_count": 5,
   "metadata": {},
   "outputs": [
    {
     "name": "stdout",
     "output_type": "stream",
     "text": [
      "\n",
      "Epoch 1/20\n"
     ]
    },
    {
     "name": "stderr",
     "output_type": "stream",
     "text": [
      "loss=0.2058 | accuracy=50.31%: 100%|██████████| 469/469 [00:23<00:00, 19.56it/s]\n"
     ]
    },
    {
     "name": "stdout",
     "output_type": "stream",
     "text": [
      "\n",
      "Test set: Average loss: 0.1550, Accuracy: 9534/10000 (95.34%)\n",
      "\n",
      "\n",
      "Epoch 2/20\n"
     ]
    },
    {
     "name": "stderr",
     "output_type": "stream",
     "text": [
      "loss=0.0532 | accuracy=95.39%: 100%|██████████| 469/469 [00:24<00:00, 18.86it/s]\n"
     ]
    },
    {
     "name": "stdout",
     "output_type": "stream",
     "text": [
      "\n",
      "Test set: Average loss: 0.0869, Accuracy: 9723/10000 (97.23%)\n",
      "\n",
      "\n",
      "Epoch 3/20\n"
     ]
    },
    {
     "name": "stderr",
     "output_type": "stream",
     "text": [
      "loss=0.1242 | accuracy=96.76%: 100%|██████████| 469/469 [00:25<00:00, 18.48it/s]\n"
     ]
    },
    {
     "name": "stdout",
     "output_type": "stream",
     "text": [
      "\n",
      "Test set: Average loss: 0.0624, Accuracy: 9796/10000 (97.96%)\n",
      "\n",
      "\n",
      "Epoch 4/20\n"
     ]
    },
    {
     "name": "stderr",
     "output_type": "stream",
     "text": [
      "loss=0.0950 | accuracy=97.47%: 100%|██████████| 469/469 [00:26<00:00, 17.80it/s]\n"
     ]
    },
    {
     "name": "stdout",
     "output_type": "stream",
     "text": [
      "\n",
      "Test set: Average loss: 0.0493, Accuracy: 9826/10000 (98.26%)\n",
      "\n",
      "\n",
      "Epoch 5/20\n"
     ]
    },
    {
     "name": "stderr",
     "output_type": "stream",
     "text": [
      "loss=0.1227 | accuracy=97.84%: 100%|██████████| 469/469 [00:25<00:00, 18.50it/s]\n"
     ]
    },
    {
     "name": "stdout",
     "output_type": "stream",
     "text": [
      "\n",
      "Test set: Average loss: 0.0500, Accuracy: 9834/10000 (98.34%)\n",
      "\n",
      "\n",
      "Epoch 6/20\n"
     ]
    },
    {
     "name": "stderr",
     "output_type": "stream",
     "text": [
      "loss=0.0569 | accuracy=97.99%: 100%|██████████| 469/469 [00:27<00:00, 16.93it/s]\n"
     ]
    },
    {
     "name": "stdout",
     "output_type": "stream",
     "text": [
      "\n",
      "Test set: Average loss: 0.0506, Accuracy: 9842/10000 (98.42%)\n",
      "\n",
      "\n",
      "Epoch 7/20\n"
     ]
    },
    {
     "name": "stderr",
     "output_type": "stream",
     "text": [
      "loss=0.0364 | accuracy=98.20%: 100%|██████████| 469/469 [00:25<00:00, 18.35it/s]\n"
     ]
    },
    {
     "name": "stdout",
     "output_type": "stream",
     "text": [
      "\n",
      "Test set: Average loss: 0.0354, Accuracy: 9877/10000 (98.77%)\n",
      "\n",
      "\n",
      "Epoch 8/20\n"
     ]
    },
    {
     "name": "stderr",
     "output_type": "stream",
     "text": [
      "loss=0.0308 | accuracy=98.37%: 100%|██████████| 469/469 [00:26<00:00, 17.43it/s]\n"
     ]
    },
    {
     "name": "stdout",
     "output_type": "stream",
     "text": [
      "\n",
      "Test set: Average loss: 0.0442, Accuracy: 9859/10000 (98.59%)\n",
      "\n",
      "\n",
      "Epoch 9/20\n"
     ]
    },
    {
     "name": "stderr",
     "output_type": "stream",
     "text": [
      "loss=0.0190 | accuracy=98.46%: 100%|██████████| 469/469 [00:24<00:00, 19.14it/s]\n"
     ]
    },
    {
     "name": "stdout",
     "output_type": "stream",
     "text": [
      "\n",
      "Test set: Average loss: 0.0331, Accuracy: 9888/10000 (98.88%)\n",
      "\n",
      "\n",
      "Epoch 10/20\n"
     ]
    },
    {
     "name": "stderr",
     "output_type": "stream",
     "text": [
      "loss=0.0814 | accuracy=98.57%: 100%|██████████| 469/469 [00:26<00:00, 17.98it/s]\n"
     ]
    },
    {
     "name": "stdout",
     "output_type": "stream",
     "text": [
      "\n",
      "Test set: Average loss: 0.0390, Accuracy: 9867/10000 (98.67%)\n",
      "\n",
      "\n",
      "Epoch 11/20\n"
     ]
    },
    {
     "name": "stderr",
     "output_type": "stream",
     "text": [
      "loss=0.0271 | accuracy=98.64%: 100%|██████████| 469/469 [00:21<00:00, 21.93it/s]\n"
     ]
    },
    {
     "name": "stdout",
     "output_type": "stream",
     "text": [
      "\n",
      "Test set: Average loss: 0.0320, Accuracy: 9890/10000 (98.90%)\n",
      "\n",
      "\n",
      "Epoch 12/20\n"
     ]
    },
    {
     "name": "stderr",
     "output_type": "stream",
     "text": [
      "loss=0.1362 | accuracy=98.73%: 100%|██████████| 469/469 [00:21<00:00, 22.33it/s]\n"
     ]
    },
    {
     "name": "stdout",
     "output_type": "stream",
     "text": [
      "\n",
      "Test set: Average loss: 0.0307, Accuracy: 9893/10000 (98.93%)\n",
      "\n",
      "\n",
      "Epoch 13/20\n"
     ]
    },
    {
     "name": "stderr",
     "output_type": "stream",
     "text": [
      "loss=0.0981 | accuracy=98.78%: 100%|██████████| 469/469 [00:22<00:00, 20.93it/s]\n"
     ]
    },
    {
     "name": "stdout",
     "output_type": "stream",
     "text": [
      "\n",
      "Test set: Average loss: 0.0299, Accuracy: 9897/10000 (98.97%)\n",
      "\n",
      "\n",
      "Epoch 14/20\n"
     ]
    },
    {
     "name": "stderr",
     "output_type": "stream",
     "text": [
      "loss=0.0121 | accuracy=98.83%: 100%|██████████| 469/469 [00:22<00:00, 20.72it/s]\n"
     ]
    },
    {
     "name": "stdout",
     "output_type": "stream",
     "text": [
      "\n",
      "Test set: Average loss: 0.0309, Accuracy: 9902/10000 (99.02%)\n",
      "\n",
      "\n",
      "Epoch 15/20\n"
     ]
    },
    {
     "name": "stderr",
     "output_type": "stream",
     "text": [
      "loss=0.0124 | accuracy=98.86%: 100%|██████████| 469/469 [00:22<00:00, 20.86it/s]\n"
     ]
    },
    {
     "name": "stdout",
     "output_type": "stream",
     "text": [
      "\n",
      "Test set: Average loss: 0.0304, Accuracy: 9898/10000 (98.98%)\n",
      "\n",
      "\n",
      "Epoch 16/20\n"
     ]
    },
    {
     "name": "stderr",
     "output_type": "stream",
     "text": [
      "loss=0.0117 | accuracy=98.85%: 100%|██████████| 469/469 [00:21<00:00, 21.70it/s]\n"
     ]
    },
    {
     "name": "stdout",
     "output_type": "stream",
     "text": [
      "\n",
      "Test set: Average loss: 0.0338, Accuracy: 9893/10000 (98.93%)\n",
      "\n",
      "\n",
      "Epoch 17/20\n"
     ]
    },
    {
     "name": "stderr",
     "output_type": "stream",
     "text": [
      "loss=0.0127 | accuracy=98.88%: 100%|██████████| 469/469 [00:21<00:00, 21.71it/s]\n"
     ]
    },
    {
     "name": "stdout",
     "output_type": "stream",
     "text": [
      "\n",
      "Test set: Average loss: 0.0286, Accuracy: 9903/10000 (99.03%)\n",
      "\n",
      "\n",
      "Epoch 18/20\n"
     ]
    },
    {
     "name": "stderr",
     "output_type": "stream",
     "text": [
      "loss=0.0095 | accuracy=98.99%: 100%|██████████| 469/469 [00:21<00:00, 21.77it/s]\n"
     ]
    },
    {
     "name": "stdout",
     "output_type": "stream",
     "text": [
      "\n",
      "Test set: Average loss: 0.0305, Accuracy: 9898/10000 (98.98%)\n",
      "\n",
      "\n",
      "Epoch 19/20\n"
     ]
    },
    {
     "name": "stderr",
     "output_type": "stream",
     "text": [
      "loss=0.0414 | accuracy=98.98%: 100%|██████████| 469/469 [00:21<00:00, 21.79it/s]\n"
     ]
    },
    {
     "name": "stdout",
     "output_type": "stream",
     "text": [
      "\n",
      "Test set: Average loss: 0.0250, Accuracy: 9926/10000 (99.26%)\n",
      "\n",
      "\n",
      "Epoch 20/20\n"
     ]
    },
    {
     "name": "stderr",
     "output_type": "stream",
     "text": [
      "loss=0.0149 | accuracy=99.05%: 100%|██████████| 469/469 [00:21<00:00, 21.76it/s]\n"
     ]
    },
    {
     "name": "stdout",
     "output_type": "stream",
     "text": [
      "\n",
      "Test set: Average loss: 0.0264, Accuracy: 9915/10000 (99.15%)\n",
      "\n"
     ]
    }
   ],
   "source": [
    "config = load_config()\n",
    "\n",
    "optimizer = optim.SGD(\n",
    "    model.parameters(),\n",
    "    lr=config[\"learning_rate\"],\n",
    "    momentum=config[\"momentum\"],\n",
    "    weight_decay=config[\"weight_decay\"],\n",
    ")\n",
    "\n",
    "list_train_accuracy = []\n",
    "list_test_accuracy = []\n",
    "for epoch in range(config[\"epochs\"]):\n",
    "    print(f\"\\nEpoch {epoch+1}/{config['epochs']}\")\n",
    "    model, epoch_train_metric = train_model(model, device, train_loader, optimizer)\n",
    "    model, epoch_test_metric = test_model(model, device, test_loader)\n",
    "\n",
    "    list_train_accuracy.append(float(epoch_train_metric[\"accuracy\"]))\n",
    "    list_test_accuracy.append(float(epoch_test_metric[\"accuracy\"]))\n",
    "\n",
    "with open(\"metrics.json\", \"w\") as f:\n",
    "    json.dump(\n",
    "        {\n",
    "            \"train_accuracy_over_epochs\": list_train_accuracy,\n",
    "            \"test_accuracy_over_epochs\": list_test_accuracy,\n",
    "        },\n",
    "        f,\n",
    "    )\n"
   ]
  }
 ],
 "metadata": {
  "kernelspec": {
   "display_name": "session7env",
   "language": "python",
   "name": "python3"
  },
  "language_info": {
   "codemirror_mode": {
    "name": "ipython",
    "version": 3
   },
   "file_extension": ".py",
   "mimetype": "text/x-python",
   "name": "python",
   "nbconvert_exporter": "python",
   "pygments_lexer": "ipython3",
   "version": "3.9.20"
  }
 },
 "nbformat": 4,
 "nbformat_minor": 2
}
