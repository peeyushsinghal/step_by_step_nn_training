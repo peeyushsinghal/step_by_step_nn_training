{
 "cells": [
  {
   "cell_type": "markdown",
   "metadata": {},
   "source": [
    "## Objective / Target\n",
    "\n",
    "- increase accuracy using batchnorm and dropout\n",
    "\n",
    "## Results\n",
    "\n",
    "- Parameters: 6952\n",
    "- Best Train Accuracy: 98.91 %\n",
    "- Best Test Accuracy: 99.29 %\n",
    "\n",
    "## Analysis\n",
    "\n",
    "- the model is small, yet able to reach 99.29% accuracy\n",
    "- no overfitting\n",
    "\n",
    "## Next Steps\n",
    "\n",
    "-  increase the number of parameters"
   ]
  },
  {
   "cell_type": "code",
   "execution_count": 1,
   "metadata": {},
   "outputs": [],
   "source": [
    "from __future__ import print_function\n",
    "import torch\n",
    "import torch.nn as nn\n",
    "import torch.nn.functional as F\n",
    "import torch.optim as optim\n",
    "from torchvision import datasets, transforms\n",
    "from torchsummary import summary\n",
    "import json"
   ]
  },
  {
   "cell_type": "code",
   "execution_count": 2,
   "metadata": {},
   "outputs": [],
   "source": [
    "\n",
    "from main import load_config, get_device, get_optimizer,get_data\n",
    "from train import train_model\n",
    "from test_model import test_model\n"
   ]
  },
  {
   "cell_type": "code",
   "execution_count": 3,
   "metadata": {},
   "outputs": [],
   "source": [
    "from model_2 import Net\n",
    "def get_model(device: torch.device, requires_summary: bool = True) -> torch.nn.Module:\n",
    "    model = Net()\n",
    "    if requires_summary:\n",
    "        summary(model, input_size=(1, 28, 28))\n",
    "    return model.to(device)"
   ]
  },
  {
   "cell_type": "code",
   "execution_count": 4,
   "metadata": {},
   "outputs": [
    {
     "name": "stdout",
     "output_type": "stream",
     "text": [
      "Using device: cpu\n",
      "----------------------------------------------------------------\n",
      "        Layer (type)               Output Shape         Param #\n",
      "================================================================\n",
      "            Conv2d-1            [-1, 8, 28, 28]              72\n",
      "              ReLU-2            [-1, 8, 28, 28]               0\n",
      "       BatchNorm2d-3            [-1, 8, 28, 28]              16\n",
      "           Dropout-4            [-1, 8, 28, 28]               0\n",
      "            Conv2d-5            [-1, 8, 28, 28]             576\n",
      "              ReLU-6            [-1, 8, 28, 28]               0\n",
      "       BatchNorm2d-7            [-1, 8, 28, 28]              16\n",
      "           Dropout-8            [-1, 8, 28, 28]               0\n",
      "         MaxPool2d-9            [-1, 8, 14, 14]               0\n",
      "           Conv2d-10           [-1, 16, 14, 14]           1,152\n",
      "             ReLU-11           [-1, 16, 14, 14]               0\n",
      "      BatchNorm2d-12           [-1, 16, 14, 14]              32\n",
      "          Dropout-13           [-1, 16, 14, 14]               0\n",
      "           Conv2d-14           [-1, 16, 14, 14]           2,304\n",
      "             ReLU-15           [-1, 16, 14, 14]               0\n",
      "      BatchNorm2d-16           [-1, 16, 14, 14]              32\n",
      "          Dropout-17           [-1, 16, 14, 14]               0\n",
      "        MaxPool2d-18             [-1, 16, 7, 7]               0\n",
      "           Conv2d-19              [-1, 8, 7, 7]             128\n",
      "           Conv2d-20             [-1, 16, 5, 5]           1,152\n",
      "             ReLU-21             [-1, 16, 5, 5]               0\n",
      "      BatchNorm2d-22             [-1, 16, 5, 5]              32\n",
      "          Dropout-23             [-1, 16, 5, 5]               0\n",
      "           Conv2d-24             [-1, 10, 3, 3]           1,440\n",
      "AdaptiveAvgPool2d-25             [-1, 10, 1, 1]               0\n",
      "================================================================\n",
      "Total params: 6,952\n",
      "Trainable params: 6,952\n",
      "Non-trainable params: 0\n",
      "----------------------------------------------------------------\n",
      "Input size (MB): 0.00\n",
      "Forward/backward pass size (MB): 0.61\n",
      "Params size (MB): 0.03\n",
      "Estimated Total Size (MB): 0.64\n",
      "----------------------------------------------------------------\n",
      "\n",
      " Number of parameters: 6952\n"
     ]
    }
   ],
   "source": [
    "device = get_device()\n",
    "train_loader, test_loader = get_data()\n",
    "model = get_model(device)\n",
    "print(f\"\\n Number of parameters: {sum(p.numel() for p in model.parameters())}\")\n"
   ]
  },
  {
   "cell_type": "code",
   "execution_count": 5,
   "metadata": {},
   "outputs": [
    {
     "name": "stdout",
     "output_type": "stream",
     "text": [
      "\n",
      "Epoch 1/15\n"
     ]
    },
    {
     "name": "stderr",
     "output_type": "stream",
     "text": [
      "loss=0.0870 | accuracy=91.41%: 100%|██████████| 469/469 [00:27<00:00, 17.16it/s]\n"
     ]
    },
    {
     "name": "stdout",
     "output_type": "stream",
     "text": [
      "\n",
      "Test set: Average loss: 0.0968, Accuracy: 9713/10000 (97.13%)\n",
      "\n",
      "\n",
      "Epoch 2/15\n"
     ]
    },
    {
     "name": "stderr",
     "output_type": "stream",
     "text": [
      "loss=0.0616 | accuracy=97.30%: 100%|██████████| 469/469 [00:26<00:00, 17.76it/s]\n"
     ]
    },
    {
     "name": "stdout",
     "output_type": "stream",
     "text": [
      "\n",
      "Test set: Average loss: 0.0557, Accuracy: 9834/10000 (98.34%)\n",
      "\n",
      "\n",
      "Epoch 3/15\n"
     ]
    },
    {
     "name": "stderr",
     "output_type": "stream",
     "text": [
      "loss=0.0678 | accuracy=97.79%: 100%|██████████| 469/469 [00:26<00:00, 17.82it/s]\n"
     ]
    },
    {
     "name": "stdout",
     "output_type": "stream",
     "text": [
      "\n",
      "Test set: Average loss: 0.0438, Accuracy: 9867/10000 (98.67%)\n",
      "\n",
      "\n",
      "Epoch 4/15\n"
     ]
    },
    {
     "name": "stderr",
     "output_type": "stream",
     "text": [
      "loss=0.0689 | accuracy=98.20%: 100%|██████████| 469/469 [00:26<00:00, 17.89it/s]\n"
     ]
    },
    {
     "name": "stdout",
     "output_type": "stream",
     "text": [
      "\n",
      "Test set: Average loss: 0.0427, Accuracy: 9862/10000 (98.62%)\n",
      "\n",
      "\n",
      "Epoch 5/15\n"
     ]
    },
    {
     "name": "stderr",
     "output_type": "stream",
     "text": [
      "loss=0.0147 | accuracy=98.33%: 100%|██████████| 469/469 [00:26<00:00, 17.91it/s]\n"
     ]
    },
    {
     "name": "stdout",
     "output_type": "stream",
     "text": [
      "\n",
      "Test set: Average loss: 0.0362, Accuracy: 9881/10000 (98.81%)\n",
      "\n",
      "\n",
      "Epoch 6/15\n"
     ]
    },
    {
     "name": "stderr",
     "output_type": "stream",
     "text": [
      "loss=0.0734 | accuracy=98.45%: 100%|██████████| 469/469 [00:26<00:00, 17.98it/s]\n"
     ]
    },
    {
     "name": "stdout",
     "output_type": "stream",
     "text": [
      "\n",
      "Test set: Average loss: 0.0414, Accuracy: 9864/10000 (98.64%)\n",
      "\n",
      "\n",
      "Epoch 7/15\n"
     ]
    },
    {
     "name": "stderr",
     "output_type": "stream",
     "text": [
      "loss=0.0120 | accuracy=98.50%: 100%|██████████| 469/469 [00:26<00:00, 17.81it/s]\n"
     ]
    },
    {
     "name": "stdout",
     "output_type": "stream",
     "text": [
      "\n",
      "Test set: Average loss: 0.0362, Accuracy: 9894/10000 (98.94%)\n",
      "\n",
      "\n",
      "Epoch 8/15\n"
     ]
    },
    {
     "name": "stderr",
     "output_type": "stream",
     "text": [
      "loss=0.0870 | accuracy=98.58%: 100%|██████████| 469/469 [00:26<00:00, 17.81it/s]\n"
     ]
    },
    {
     "name": "stdout",
     "output_type": "stream",
     "text": [
      "\n",
      "Test set: Average loss: 0.0302, Accuracy: 9908/10000 (99.08%)\n",
      "\n",
      "\n",
      "Epoch 9/15\n"
     ]
    },
    {
     "name": "stderr",
     "output_type": "stream",
     "text": [
      "loss=0.0492 | accuracy=98.64%: 100%|██████████| 469/469 [00:26<00:00, 17.80it/s]\n"
     ]
    },
    {
     "name": "stdout",
     "output_type": "stream",
     "text": [
      "\n",
      "Test set: Average loss: 0.0277, Accuracy: 9916/10000 (99.16%)\n",
      "\n",
      "\n",
      "Epoch 10/15\n"
     ]
    },
    {
     "name": "stderr",
     "output_type": "stream",
     "text": [
      "loss=0.0393 | accuracy=98.68%: 100%|██████████| 469/469 [00:26<00:00, 17.90it/s]\n"
     ]
    },
    {
     "name": "stdout",
     "output_type": "stream",
     "text": [
      "\n",
      "Test set: Average loss: 0.0272, Accuracy: 9917/10000 (99.17%)\n",
      "\n",
      "\n",
      "Epoch 11/15\n"
     ]
    },
    {
     "name": "stderr",
     "output_type": "stream",
     "text": [
      "loss=0.0241 | accuracy=98.69%: 100%|██████████| 469/469 [00:26<00:00, 17.86it/s]\n"
     ]
    },
    {
     "name": "stdout",
     "output_type": "stream",
     "text": [
      "\n",
      "Test set: Average loss: 0.0283, Accuracy: 9912/10000 (99.12%)\n",
      "\n",
      "\n",
      "Epoch 12/15\n"
     ]
    },
    {
     "name": "stderr",
     "output_type": "stream",
     "text": [
      "loss=0.0080 | accuracy=98.84%: 100%|██████████| 469/469 [00:26<00:00, 17.70it/s]\n"
     ]
    },
    {
     "name": "stdout",
     "output_type": "stream",
     "text": [
      "\n",
      "Test set: Average loss: 0.0279, Accuracy: 9913/10000 (99.13%)\n",
      "\n",
      "\n",
      "Epoch 13/15\n"
     ]
    },
    {
     "name": "stderr",
     "output_type": "stream",
     "text": [
      "loss=0.0149 | accuracy=98.87%: 100%|██████████| 469/469 [00:26<00:00, 17.71it/s]\n"
     ]
    },
    {
     "name": "stdout",
     "output_type": "stream",
     "text": [
      "\n",
      "Test set: Average loss: 0.0302, Accuracy: 9912/10000 (99.12%)\n",
      "\n",
      "\n",
      "Epoch 14/15\n"
     ]
    },
    {
     "name": "stderr",
     "output_type": "stream",
     "text": [
      "loss=0.0748 | accuracy=98.91%: 100%|██████████| 469/469 [00:27<00:00, 17.16it/s]\n"
     ]
    },
    {
     "name": "stdout",
     "output_type": "stream",
     "text": [
      "\n",
      "Test set: Average loss: 0.0226, Accuracy: 9929/10000 (99.29%)\n",
      "\n",
      "\n",
      "Epoch 15/15\n"
     ]
    },
    {
     "name": "stderr",
     "output_type": "stream",
     "text": [
      "loss=0.0188 | accuracy=98.83%: 100%|██████████| 469/469 [00:26<00:00, 17.91it/s]\n"
     ]
    },
    {
     "name": "stdout",
     "output_type": "stream",
     "text": [
      "\n",
      "Test set: Average loss: 0.0258, Accuracy: 9921/10000 (99.21%)\n",
      "\n"
     ]
    }
   ],
   "source": [
    "config = load_config()\n",
    "\n",
    "optimizer = optim.SGD(\n",
    "    model.parameters(),\n",
    "    lr=config[\"learning_rate\"],\n",
    "    momentum=config[\"momentum\"],\n",
    "    weight_decay=config[\"weight_decay\"],\n",
    ")\n",
    "\n",
    "list_train_accuracy = []\n",
    "list_test_accuracy = []\n",
    "for epoch in range(config[\"epochs\"]):\n",
    "    print(f\"\\nEpoch {epoch+1}/{config['epochs']}\")\n",
    "    model, epoch_train_metric = train_model(model, device, train_loader, optimizer)\n",
    "    model, epoch_test_metric = test_model(model, device, test_loader)\n",
    "\n",
    "    list_train_accuracy.append(float(epoch_train_metric[\"accuracy\"]))\n",
    "    list_test_accuracy.append(float(epoch_test_metric[\"accuracy\"]))\n",
    "\n",
    "with open(\"metrics.json\", \"w\") as f:\n",
    "    json.dump(\n",
    "        {\n",
    "            \"train_accuracy_over_epochs\": list_train_accuracy,\n",
    "            \"test_accuracy_over_epochs\": list_test_accuracy,\n",
    "        },\n",
    "        f,\n",
    "    )\n"
   ]
  }
 ],
 "metadata": {
  "kernelspec": {
   "display_name": "session7env",
   "language": "python",
   "name": "python3"
  },
  "language_info": {
   "codemirror_mode": {
    "name": "ipython",
    "version": 3
   },
   "file_extension": ".py",
   "mimetype": "text/x-python",
   "name": "python",
   "nbconvert_exporter": "python",
   "pygments_lexer": "ipython3",
   "version": "3.9.20"
  }
 },
 "nbformat": 4,
 "nbformat_minor": 2
}
